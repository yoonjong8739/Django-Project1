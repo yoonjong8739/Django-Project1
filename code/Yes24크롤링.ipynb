{
 "cells": [
  {
   "cell_type": "code",
   "execution_count": 3,
   "id": "fff33e7d",
   "metadata": {
    "scrolled": false
   },
   "outputs": [
    {
     "name": "stdout",
     "output_type": "stream",
     "text": [
      "Collecting webdriver-manager\n",
      "  Downloading webdriver_manager-3.8.5-py2.py3-none-any.whl (27 kB)\n",
      "Collecting python-dotenv\n",
      "  Downloading python_dotenv-1.0.0-py3-none-any.whl (19 kB)\n",
      "Requirement already satisfied: requests in d:\\anaconda3\\lib\\site-packages (from webdriver-manager) (2.28.1)\n",
      "Requirement already satisfied: tqdm in d:\\anaconda3\\lib\\site-packages (from webdriver-manager) (4.64.1)\n",
      "Requirement already satisfied: packaging in d:\\anaconda3\\lib\\site-packages (from webdriver-manager) (21.3)\n",
      "Requirement already satisfied: pyparsing!=3.0.5,>=2.0.2 in d:\\anaconda3\\lib\\site-packages (from packaging->webdriver-manager) (3.0.9)\n",
      "Requirement already satisfied: charset-normalizer<3,>=2 in d:\\anaconda3\\lib\\site-packages (from requests->webdriver-manager) (2.0.4)\n",
      "Requirement already satisfied: certifi>=2017.4.17 in d:\\anaconda3\\lib\\site-packages (from requests->webdriver-manager) (2022.12.7)\n",
      "Requirement already satisfied: idna<4,>=2.5 in d:\\anaconda3\\lib\\site-packages (from requests->webdriver-manager) (3.3)\n",
      "Requirement already satisfied: urllib3<1.27,>=1.21.1 in d:\\anaconda3\\lib\\site-packages (from requests->webdriver-manager) (1.26.11)\n",
      "Requirement already satisfied: colorama in d:\\anaconda3\\lib\\site-packages (from tqdm->webdriver-manager) (0.4.5)\n",
      "Installing collected packages: python-dotenv, webdriver-manager\n",
      "Successfully installed python-dotenv-1.0.0 webdriver-manager-3.8.5\n"
     ]
    }
   ],
   "source": [
    "#!pip install webdriver-manager  # 항상 최신버전의 크롬 드라이버를 자동으로 사용"
   ]
  },
  {
   "cell_type": "code",
   "execution_count": null,
   "id": "a734d030",
   "metadata": {},
   "outputs": [],
   "source": [
    "#driver = webdriver.Chrome(ChromeDriverManager().install())"
   ]
  },
  {
   "cell_type": "code",
   "execution_count": 1,
   "id": "096ed0a4",
   "metadata": {},
   "outputs": [],
   "source": [
    "import pandas as pd\n",
    "import numpy as np\n",
    "\n",
    "import re\n",
    "import requests\n",
    "from bs4 import BeautifulSoup\n",
    "from selenium import webdriver\n",
    "from selenium.webdriver.common.by import By\n",
    "from webdriver_manager.chrome import ChromeDriverManager"
   ]
  },
  {
   "cell_type": "code",
   "execution_count": 2,
   "id": "319f49d4",
   "metadata": {
    "scrolled": true
   },
   "outputs": [],
   "source": [
    "headers = {\"User-Agent\":\"Mozilla/5.0 (Windows NT 10.0; Win64; x64) AppleWebKit/537.36 (KHTML, like Gecko) Chrome/111.0.0.0 Safari/537.36\"}\n",
    "book_title_list = []\n",
    "#book_author_list = []\n",
    "#book_price_list = []\n",
    "#book_star_list = []\n",
    "#book_cate_list = []\n",
    "#book_isbn_list = []\n",
    "#book_tag_list = []\n",
    "#book_img_list = []\n",
    "\n",
    "for i in range(1,51):\n",
    "    url = 'http://www.yes24.com/24/Category/BestSeller?CategoryNumber=017&sumgb=06&AO=2&PageNumber={}'.format(i)\n",
    "    res = requests.get(url, headers = headers).text\n",
    "    soup = BeautifulSoup(res, 'lxml')\n",
    "\n",
    "    book_links = soup.select('td.image > div.goodsImgW > a')\n",
    "    book_link_list = []\n",
    "\n",
    "    # 미리보기 링크 제거\n",
    "    for book_link in book_links:\n",
    "        if \"javascript:openEBookPreview\" in book_link['href']:\n",
    "            continue\n",
    "        else:\n",
    "            book_url = \"http://www.yes24.com\" + book_link['href']\n",
    "            book_link_list.append(book_url)\n",
    "    #print(book_link_list)\n",
    "\n",
    "    for i in range(len(book_link_list)):\n",
    "        url2 = book_link_list[i]\n",
    "        res2 = requests.get(url2).text\n",
    "        soup2 = BeautifulSoup(res2, 'lxml')\n",
    "\n",
    "        book_title = soup2.find(\"h2\", {\"class\":\"gd_name\"}).get_text()  # 책 제목\n",
    "        book_title_list.append(book_title)\n",
    "\n",
    "        #try:\n",
    "        #    book_author = soup2.find(\"span\", {\"class\":\"gd_auth\"})get_text().replace(\"\\n\",\"\").replace(\"\\r\",\"\").rstrip().lstrip()  # 저자\n",
    "        #except AttributeError:\n",
    "        #    book_author_list.append(\"NULL\")\n",
    "        #else:\n",
    "        #    book_author_list.append(book_author)\n",
    "\n",
    "        #try:\n",
    "        #    book_price = soup2.find(\"span\", {\"class\":\"nor_price\"}).get_text()  # 가격\n",
    "        #except AttributeError:\n",
    "        #    book_price_list.append(\"NULL\")\n",
    "        #else:\n",
    "        #    book_price_list.append(book_price)\n",
    "\n",
    "        #try:\n",
    "        #    book_star = soup2.select_one('.gd_rating > .yes_b').get_text()  # 별점\n",
    "        #except AttributeError:\n",
    "        #    book_star_list.append(\"NULL\")\n",
    "        #else:\n",
    "        #    book_star_list.append(book_star)\n",
    "\n",
    "        #try:\n",
    "        #    book_cate = soup2.select_one(\"dd>.yesAlertLi>li\").get_text().replace(\"\\n\",\"\").replace(\" \",\"\").replace(\"\\xa0\",\"\")  # 카테고리 분류\n",
    "        #except AttributeError:\n",
    "        #    book_cate_list.append(\"NULL\")\n",
    "        #else:\n",
    "        #    book_cate_list.append(book_cate)\n",
    "\n",
    "        #try:\n",
    "        #    book_isbn = soup2.find(\"div\", {\"class\":\"yesTb\"}).get_text().replace(\"\\n\", \"\").replace(\"\\r\",\"\")[-13:]  # ISBN13\n",
    "        #except AttributeError:\n",
    "        #    book_isbn.append(\"NULL\")\n",
    "        #else:\n",
    "        #    if re.compile(\"[^0-9]\").match(book_isbn):\n",
    "        #        book_isbn = book_isbn.replace(book_isbn, \"0\"*13)\n",
    "        #        book_isbn_list.append(book_isbn)\n",
    "        #        #print(book_isbn)\n",
    "        #    else:\n",
    "        #        #print(book_isbn)\n",
    "        #        book_isbn_list.append(book_isbn)\n",
    "\n",
    "        #try:\n",
    "        #    book_tag = soup2.find(\"div\", {\"class\":\"gd_tagArea\"}).get_text().replace(\"\\n\",\"\")  # 태그\n",
    "        #except AttributeError:\n",
    "        #    book_tag_list.append(\"NULL\")\n",
    "        #else:\n",
    "        #    book_tag_list.append(book_tag)\n",
    "\n",
    "        #try:\n",
    "        #    book_img = soup2.find(\"img\", {\"class\":\"gImg\"})['src']\n",
    "        #except AttributeError:\n",
    "        #    book_img.append(\"NULL\")\n",
    "        #else:\n",
    "        #    book_img_list.append(book_img)"
   ]
  },
  {
   "cell_type": "code",
   "execution_count": 3,
   "id": "209ad587",
   "metadata": {
    "scrolled": true
   },
   "outputs": [
    {
     "name": "stdout",
     "output_type": "stream",
     "text": [
      "['[최근담] 안온한 밤', '몫', '우리는 사랑했다 - 테이크아웃 05', '스즈메의 문단속', '김미경의 마흔 수업', '1퍼센트 부자의 법칙', '입이 트이는 영어 2023년 3월호', '브라질에 비가 내리면 스타벅스 주식을 사라', '원씽', 'K 배터리 레볼루션', '만일 내가 인생을 다시 산다면 (10만 부 기념 스페셜 에디션)', '불편한 편의점', '구의 증명 [할인]', '이준석의 거부할 수 없는 미래', '세컨드 브레인', '돈의 속성', '[최근담] 가꾸는 이의 즐거움', '[최근담] 꿀로 무거워져', '아버지의 해방일지', '트렌드 코리아 2023', '[최근담] 기특한 나', '효기심의 권력으로 읽는 세계사 - 유럽편', '그들의 생각을 바꾸는 방법', '데일 카네기 인간관계론', '무조건 합격하는 암기의 기술', '챗GPT', '물고기는 존재하지 않는다', '[100% 페이백][대여] 배니시드', '사피엔스', '부자 아빠 가난한 아빠 20주년 특별 기념판 [부자 아빠 가난한 아빠 1 개정증보판]', '진짜 쓰는 실무 엑셀', '[최근담] 하트모양 크래커', '법련 3월호(2023년)', '당신도 느리게 나이 들 수 있습니다', '아몬드', '어린 왕자 (한글+영문)', 'POWER ENGLISH 2023년 3월호', '멋진 신세계', '노잉', '원페이지 교육학 기본서 (제6판)', '당신은 생각보다 강하다', '악인론', '초거대 위협', '노래하기 쉬워지는 레슨 노트', '토익900점 이 영단어만 알면 OK', '지적 대화를 위한 넓고 얕은 지식 1', '진짜 미국 영어 2023년 3월호', 'English for Developers', '맥심 MAXIM 2023. 3월호 (사회적 거리 좁히기 : 밀착)', '내가 엄마들 모임에 안 나가는 이유', '돈의 심리학', '사랑의 기술 (개정판)', '정의란 무엇인가', '세상 끝의 카페', '이토록 평범한 미래', '[100% 페이백][대여] 이러다 벼락부자가 될지도 몰라', 'Hospitality 산업의 이해', '[최근담] 상상과 사랑', '중독 이야기', '데미안 (한글판) 010', '[최근담] 만두 가게 앞에는 싱크홀이 있다', '[100% 페이백][대여] 우크라이나에서 온 메시지', '조셉 머피 잠재의식의 힘', '마케팅 설계자', '불편한 편의점 2', '정리하는 뇌', 'People and Life 2', '갈매기 (한글판) 048', '[최근담] 가장 매혹적인', 'GPT 제너레이션 : 챗GPT가 바꿀 우리 인류의 미래', '귀가 트이는 영어 2023년 3월호', '매일성경[개역개정] 2023년 3-4월호(마태복음15-28장, 민수기 11-20장)', '역행자', '대학생을 위한 성장과 소통의 글쓰기', 'Flight Service English', '어린이가 좋아하는 동시 100', '폭풍의 언덕 (한글판 + 영문판)', '데미안 - 세계문학전집 044', '[최근담] 내 생애 처음으로 공부하지 않은 날', '삶을 창조하는 여행의 기술', '키위엔 영어회화 하루 5분의 기적', '그릿(50만부 판매 기념 리커버 골드에디션)', '인간 실격 - 세계문학전집 103', '2023 시험왕 이형재 행정학 - 기출 변형과 동형 형제모의고사', '게으른 완벽주의자를 위한 심리학', '면접을 위한 CS 전공지식 노트', '당신은 결국 무엇이든 해내는 사람', '데이터베이스 개론(3판)', '파이썬 for Beginner 3판', '오늘 밤, 세계에서 이 사랑이 사라진다 해도', '코스모스', '[100% 페이백][대여] 다정한 매일매일', '[최근담] 그래머블 제로 Grammable zero', '우아한 엄마의 사생활', '스탠퍼드식 리더십 수업', '올바른 책 분석노트: 2024학년도 수능특강 영어', '[단독] 돈은 좋지만 재테크는 겁나는 너에게', '해커스 토익 실전 1000제 1 READING 문제집', '이것이 자바다 (개정판)', '일본어 무작정 따라하기 - 완전판[epub3.0]', '동물농장 (한글)', '2023 상장기업 업종 지도(25개 업종 종목 지도 부록 포함)', '거시경제학 (11판)', '파친코 1', '홍학의 자리', '[최근담] 이브와 트리', '미국인 사용빈도 다반사 영어회화 구동사', '열린 어둠', '거의 모든 일상 표현의 영어', '똑게육아', '재료과학과 공학 (제10판)', 'Do it! HTML+CSS+자바스크립트 웹 표준의 정석', 'CURSO DE ESPANOL 1 - Inicial', '역사란 무엇인가', '나는 인생을 건 공부를 시작했다', 'EASY ENGLISH 2023년 3월호', 'DO IT 두잇', '레버리지', '신경 끄기 연습', '실리콘밸리에선 어떻게 일하나요', '파친코 2', '도파민네이션', '디지털 논리회로(4판)', '혼자 공부하는 머신러닝+딥러닝', '공정하다는 착각', '아주 작은 습관의 힘', '군주론', '생각에 관한 생각', '이방인 (한글판) 009', '월가아재의 제2라운드 투자 수업', '작별인사', '[대여] 하루 3분 세계사(오디오북)', '국제기구 : 글로벌 거버넌스의 정치학 (2판)', '나를 보내지 마', 'C로 배우는 쉬운 자료구조 4판', '오토캐드 40시간 완성', '데일 카네기 자기관리론', '스포츠문화사', '메시지 S 스탠더드 에디션', '성공하는 사람들의 7가지 습관', '동급생', 'BASIC DSLR KNOWHOW BOOK 디지털 사진의 기본 Part 1.', '노인과 바다 (한글) 001', '2023 3월호 에듀윌 시사상식', '수학 1 미분적분학', 'BIG WAVE 거대한 변화', '중급 일본어 2023년 3월호', '우리가 운명이라고 불렀던 것들', '2023 빅데이터분석기사 필기 한권으로 끝내기', '2023 해커스 GSAT 삼성직무적성검사 통합 기본서 최신기출유형+실전모의고사 (수리논리/추리)', '해커스 첫토익 LC+RC+VOCA', '세상의 마지막 기차역', '원페이지 교육학 빈칸노트 (제6판)', '쉽게 배우는 소프트웨어 공학 2판', '농담', '이상 - 날개', '변신 (한글판) 085', '외투,코 (한글판) 038', '부자 아빠 가난한 아빠 2', '[단독] 나는 당신이 미국 부동산으로 부자가 되면 좋겠습니다', '5천만 원으로 시작하는 미라클 기적의 재개발 재건축', '미스터 프레지던트', '금리의 역습', '대화의 밀도', '맥심 MAXIM 2023. 1월호 (Friends with Benefits)', '자소서 바이블 2.0', '마음의 법칙', '소년이 온다', '밝은 밤', '긴긴밤', '이것이 취업을 위한 코딩 테스트다 with 파이썬', '심판', 'The Big Picture', '해커스톡 여행영어 10분의 기적', 'NEW 일본어 상용한자 기초 마스터 1026', '달러구트 꿈 백화점 : 잠들어야만 입장 가능합니다', '칵테일, 러브, 좀비', '지적 대화를 위한 넓고 얕은 지식 0(제로)', '선량한 차별주의자', '노르웨이의 숲', '사랑의 이해', '자유론', '[100% 페이백][대여] 내일을 준 너에게, 마지막 러브레터를', 'EASY WRITING 2023년 3월호', '일생에 단 한번은 독기를 품어라', '미움받을 용기 (200만 부 기념 스페셜 에디션)', '거인의 어깨 1', '왜 세계의 절반은 굶주리는가?', '혼자 공부하는 컴퓨터 구조+운영체제', '하얼빈', '혼자 공부하는 파이썬 (개정판)', 'C언어 for Beginner', '경영경제통계학 (제5판)', '주식투자 최적의 타이밍을 잡는 법', '아비투스', 'Ready for College English', '빅터 프랭클의 죽음의 수용소에서', '불안', '포스트휴먼이 몰려온다', '지구에서 한아뿐', '클루지', '팩트풀니스', '이기적 유전자 (40주년 기념판)', '합리적 남자', '탈무드 (한글판) 111', '타이탄의 도구들', '종의 기원', '프랑켄슈타인 (한글+영문)', '싯다르타 - 세계문학전집 58', '설득의 심리학', 'The Secret 시크릿', '공자가 죽어야 나라가 산다', '거인의 노트', 'Photo essay 그곳에 가면', '경제수학 강의', '세상은 실제로 어떻게 돌아가는가', '2023 최신판 위포트  온라인 GSAT 삼성직무적성검사 통합 기본서', '원래 어른이 이렇게 힘든 건가요', '우리는 각자의 세계가 된다', '해커스 토익 실전 1000제 1 LISTENING 문제집', '[대여] 개살구 - 꼭 읽어야 할 한국 대표 소설 174', '데이터 과학을 위한 파이썬 프로그래밍(2판)', '아파트 투자는 사이클이다', '올바른책 수능특강 Light 영어독해연습 분석노트 (2022년)', '빠르게 실패하기', '오늘 밤, 세계에서 이 눈물이 사라진다 해도', 'Weaver 분자생물학 (5판)', '2022 화재감식평가기사·산업기사 실기 필답형', '마이어스의 심리학개론 (제13판)', '모든 것은 기본에서 시작한다', '전설로 떠나는 월가의 영웅', '가상 면접 사례로 배우는 대규모 시스템 설계 기초', '생각이 너무 많은 서른 살에게', '마음챙김', '모던 자바스크립트 Deep Dive', '영어다의어, 알맹이와 껍데기 2', '유혹의 기술', '인간실격 (한글판) 039', '오만과 편견 (한글+영문판)', 'NestJS로 배우는 백엔드 프로그래밍', '중급 중국어 2023년 3월호', '정세현의 통찰', '삶을 바꾸는 질문의 기술', '매일성경 순  2023년 3-4월호(마태복음15-28장, 민수기 11-20장)', '12가지 인생의 법칙 (40만 부 기념 스페셜 에디션)', 'AI 2041', 'Must Have 코드팩토리의 플러터 프로그래밍', 'Node.js 교과서 개정 3판', '2023 에듀윌 스포츠지도사 필기 한권끝장', '누구나 할 수 있는 유니티 2D 게임 제작', '조국의 법고전 산책', '스틱!', '가녀장의 시대', '오이디푸스 왕', '스티븐슨의 경제학원론', '밥 프록터 부의 확신', '우분투 리눅스(3판)', '10배의 법칙', '채식주의자(개정판)', '개미대학 세력의 매집원가 구하기', '인벤터 50시간 완성 (모델링편)', '객체지향의 사실과 오해', '참을 수 없는 존재의 가벼움', '난생처음 컴퓨팅 사고 with 파이썬', '부동산 자산관리론', '여행사 경영과 실무', '영어원서 읽는 시간 조지 오웰의 동물농장 Animal Farm', '철학은 어떻게 삶의 무기가 되는가', '사진·통계와 함께 읽는 일본 일본인 일본문화 (3rd EDITION)', '침묵의 봄', '파과', '고래 - 한국문학전집 019', '복식디자인론', '인생 수업', '트렁크', '세상에 대하여 우리가 더 잘 알아야 할 교양 11', '시장의 마법사들', '이방인 - 세계문학전집 266', '위대한 개츠비 (한글판) 012', '순간을 믿어요', '신들은 죽임당하지 않을 것이다', '18년 차 교사, 삼 남매 엄마의 함께 성장하는 가족 독서', 'START ENGLISH 2023년 3월호', '설득의 법칙', '오십에 읽는 순자', '전기화학 제4판', '정재현 지텔프 보카 Level 2', '디테일의 발견', '열방약국 말기암 통합요법 상담소', '묵상과 설교  2023년 3-4월호(마태복음15-28장, 민수기 11-20장)', '맛있는 디자인 포토샵&일러스트레이터 CC 2023', '2023 고종훈 한국사 사료분석노트 (절대사료)', '2023 대한민국 산업지도', '호모 데우스', '2023 에듀윌 지게차운전기능사 필기', '부동산 트렌드 2023', '센스 있는 영어 표현', '새 행정학 3.0', '사랑은 그렇게 하는 것이 아니다', '언어 : 풀어쓴 언어학 개론 (개정판) (4판)', '계속 가보겠습니다', '송사무장의 부동산 경매의 기술', '고급 영양학 : 영양소대사의 이해를 돕는 (3판 3쇄)', '이현석의 입이 트이는 영어 최고의 스피킹 60 - 일상생활 편', '내가 틀릴 수도 있습니다', '광고학개론 (2022년 개정판)', '심리학과의 만남 (6판)', '나는 왜 혼자가 편할까?', '부의 추월차선 (10주년 스페셜 에디션)', '말하기 능력을 키우는 발표의 기술', '한국전문소생술 4판', '알기쉬운 제과제빵학', '정보 보안 개론(4판)', '개목초 강의(下)', '프로젝트 헤일메리', '로고와 이쑤시개', 'MySQL로 배우는 데이터베이스 개론과 실습', '창의적 공학설계(3판)', 'HTML5 웹 프로그래밍 입문(3판)', '영어다의어, 알맹이와 껍데기 4', '현대사회의 여가와 레크리에이션', '영상제작론', 'YBM 스타트 토익 RC', '필독 VOCA', '이펙티브 자바 Effective Java 3/E', '영어 회화의 결정적 단어들', '역사의 쓸모', '가재가 노래하는 곳', '여행의 이유', '회복탄력성 (리커버)', '다른 방식으로 보기', '다락원 일본어 마스터 1', '회색 인간 - 김동식 소설집 1', '돈으로 살 수 없는 것들', '데미안 (한글+영문)', '변신·시골의사 - 세계문학전집 004', '기억 전달자', '난장이가 쏘아올린 작은 공(조세희)', '각자도사 사회', \"세 아이 워킹맘 '삶의 주인이 되는 아이로 키우기'\", '몬테카를로 시뮬레이션으로 배우는 확률통계 with파이썬', '기초전자실험 with PSpice', '블렌더 3D', '부의 빅 히스토리', '초급 일본어 2023년 3월호', '[대여] 고독사 워크숍', '프셉마음 신생아중환자실 편', '미다스의 노예들', '위대한 경제학 고전 30권을 1권으로 읽는 책', '[단독] 러브 몬스터', '디자인 정치학', '소설가라는 이상한 직업', '비즈니스 영어 회화 & 이메일 표현 사전(epub3.0)', '거시경제학 해법 (11판)', '주식투자 무작정 따라하기(최신개정판)', '나는 오래된 거리처럼 너를 사랑하고', '장사의 신 : 200쇄 기념 블랙에디션', 'Warming-up C programming - 2nd Edition', 'Android Studio를 활용한 안드로이드 프로그래밍', '혼자 공부하는 데이터 분석 with 파이썬', '부는 어디서 오는가', '타인의 마음', '[세트] 토비의 스프링 3.1 (총2권/완결)', '2023 사회조사분석사 2급 1차 필기 한권으로 끝내기+무료강의(기출)', '프셉마음 : 혈액검사 해석 및 간호편', '영어회화 100일의 기적 개정판', '올바른책 수능특강 Light 영어 분석노트 (2022년)', '넛지: 파이널 에디션', '멘탈을 바꿔야 인생이 바뀐다', '회사에서 바로 통하는 실무 엑셀+파워포인트+워드&한글 (전면 개정판)', '맛있어서 지속 가능한 디디미니 다이어트 레시피', '공학 기초수학(2판)', '보도 섀퍼의 이기는 습관', '데일리 필로소피', '이어령의 마지막 수업', '혼자 공부하는 SQL', '젊은 ADHD의 슬픔', '살바토레의 국제무역론 (제13판)', '주식투자의 지혜', 'Vue.js 프로젝트 투입 일주일 전', '현대사회와 미디어', '부자의 그릇', '어린이라는 세계', '영어다의어, 알맹이와 껍데기 1', '시선으로부터,', '지적 대화를 위한 넓고 얕은 지식 2', '경제학원론 (제2판)', '제자백가 사상', '재미있는 일본 이야기 (개정판)', '디자인 어제와 오늘, 그리고 내일', '자유론 (개정판)', '바깥은 여름', '폭풍의 언덕 (한글판) 051', '당신 인생의 이야기', '자존감 수업', '숨결이 바람 될 때', '심리검사의 이해 (제3판)', '죽음과 종교', '까레이스키, 끝없는 방랑', '명심보감', '위대한 개츠비 - 세계문학전집 075', '젊은 느티나무 - 오늘의 작가 총서 4', '존재 자체로 아름다운 사람을 만나는 사람', '인류의 여정', '아서 새빌 경의 범죄(한글+영문)', '당신께', '[단독] 위대한 대화', '지금 당장 포르쉐를 타라', '[단독] 해피엔딩에서 너를 기다릴게', '치매예방달력', '살인자와 프로파일러', '2023 최신판 S-OIL(에쓰오일) 생산직 채용 온라인 필기시험+AI면접', '죽음이란 무엇인가', '청소년 매일성경 2023년 3-4월호(마태복음15-28장, 민수기 11-20장)', '일본어 문법 무작정 따라하기(epub3.0)', '나는 경매로 1년 만에 인생을 역전했다', '글로벌거시경제학', '리얼 오사카 (2023~2024 최신판)', '보도 섀퍼 부의 레버리지', '아동·청소년 이상심리학 (4판)', '2023 최신판 렛유인 GSAT 독학단기완성 통합기본서', '생활속의 응용윤리', '러닝 타입스크립트', '모든 것이 괜찮아지는 기술', '해커스 토익 실전 1000제 1 READING 해설집', '이웃집 백만장자', '직무별 현직자가 말하는 반도체 직무 바이블', '자살에 관한 모든 것', '법학적성시험 문제 해설: LEET 추리논증 Ⅰ(2023-2019학년도)', '거인의 어깨 2', '인생의 역사', '파고다 첫토익 PART 5&6', '나주에 대하여', '나의 월급 독립 프로젝트 (리마스터 에디션)', '2023 유선배 SQL개발자(SQLD) 과외노트', '조셉 머피 부의 초월자', '비폭력대화', '퀀트투자 무작정 따라하기', '두근두근 중국어 1', '세상에서 가장 쉬운 본질육아', '잘될 수밖에 없는 너에게', '메타버스에선 무슨 일이 일어날까?', '내가 알고 있는 걸 당신도 알게 된다면 (리커버 에디션)', '동역학 (제9판)', '비상식적 성공 법칙', '뮤지컬 영화 (2022년 개정판)', '프셉마음 응급실편', '돈, 뜨겁게 사랑하고 차갑게 다루어라', '달구나 파이썬!', '저널리즘의 기본 원칙', '컴퓨팅 사고력을 키우는 이산수학(3판)', '표와 도식으로 정리하는 기본 행정학', '개장 전, 아직 켜지지 않은 모니터 앞에서', '행정학 입문 (개정판)', '다정한 것이 살아남는다', '오십에 읽는 논어', '2021 JLPT (일본어능력시험) 한권으로 끝내기 N3 (최신개정판)', '아이주도 이유식 유아식 매뉴얼 (개정판)', '지구 끝의 온실', '5일만에 끝내는 제인의 토익스피킹 콤보북', '군주론', '이토록 뜻밖의 뇌과학', '프셉마음 입문편', '난생처음 인공지능 입문', '실전투자의 비밀', '소크라테스 익스프레스', '고객서비스 실무 (4판)', '착! 붙는 일본어 독학 첫걸음', '엑시트 EXIT', '이것이 우분투 리눅스다 (개정판)', '스프링 부트와 AWS로 혼자 구현하는 웹 서비스', '더 시스템 THE SYSTEM', '현명한 투자자 1', '고등 영어 단어 끝 고단끝', 'Do it! HTML5+CSS3 웹 표준의 정석 - 전면 개정 2판', '영어일기 표현사전_여가활동 직장생활', '욕망의 진화', '뇌, 욕망의 비밀을 풀다', '마케팅이다', '걸리버 여행기 (완역본)', '우리가 빛의 속도로 갈 수 없다면', '터틀 트레이딩', '말센스', '떨림과 울림', '무기가 되는 스토리', '감정은 어떻게 만들어지는가?', '관점을 디자인하라 (개념 확장판)', '하버드 상위 1퍼센트의 비밀', '21세기를 위한 21가지 제언', '박문호 박사의 뇌과학 공부', '핵심 조직행동론 (제14판)', '친밀한 이방인', '안드로이드는 전기양의 꿈을 꾸는가? - 필립 K. 딕 걸작선 12', '사회 속의 주거 주거 속의 사회', '단순한 열정', '신화, 영화와 만나다', '쇼코의 미소', '화씨 451 - 환상문학전집 12', '스크루테이프의 편지', '이끌든지 따르든지 비키든지', '젠더와 사회', '나미야 잡화점의 기적', '지금 이 순간을 살아라', '수레바퀴 아래서 (한글판) 020', '달과 6펜스 - 세계문학전집 038', '베니스의 상인 - 세계문학전집 262', '젊은 베르테르의 슬픔 (한글판) 007', '오만과 편견 - 세계문학전집 088', '[단독] 나를 찾지 마', '챗GPT 새로운 글쓰기 도구의 탄생과 활용', '하나님을 갈망하다', '[단독] 오빠 새끼 잡으러 간다', '말씀대로 믿고 살고 누리는 큐티인(QTIN)(2023년 3/4월호)', '당신은 이미 읽혔다 (개정판)', '죽음의 역사', '맛있는 디자인 프리미어 프로&애프터 이펙트 CC 2023', '실전에서 바로 쓰는 Next.js', '아이에게 주는 감정 유산', 'ChatGPT 인공지능 융합교육법', '일본어 상용한자 무작정 따라하기 1', '맥심 MAXIM 2023. 2월호 (꽐라)', '엘리어트 파동이론 마스터', '인생을 숙제처럼 살지 않기로 했다', '음식 중독', '2023 채용대비 All-New 현대자동차 고졸/전문대졸 생산인력 필기시험 한권합격', '2023 에듀윌 전기기사 필기 7개년 기출문제집', 'Do it! 프로덕트 디자인 입문 with 피그마', '2023 최신판 LG그룹 온라인 인적성검사 최신기출유형+모의고사 6회+무료LG특강', '80세의 벽', '재벌 총수와 예언가 1-1', '형사소송법 (8판)', '파이돈', '유난한 도전', '영화를 빨리 감기로 보는 사람들', '사라진 여자들', '시니맘의 오늘도 완밥 유아식', '데이터는 어떻게 인생의 무기가 되는가', 'DCS공항수속서비스개론', '마흔에 읽는 니체', '정역학 (제9판)', '워런 버핏의 주주 서한', '미키7', '21세기 영양학 원리 (5판)', '월급쟁이 부자로 은퇴하라 (10만부 기념 증보판)', '감성과 지성으로 일한다는 것', '어느 날, 내 죽음에 네가 들어왔다', '10회 만에 끝내는 지텔프(G-TELP) 문법 모의고사', '미적분의 쓸모', 'Do it! 쉽게 배우는 파이썬 데이터 분석', '모두의 딥러닝 개정3판', '기억의 뇌과학', '코딩 자율학습 HTML + CSS + 자바스크립트', '도메인 주도 개발 시작하기', '투자는 심리게임이다', '위저드 베이커리(개정판)', '유니티 교과서 개정 5판', '프리드버그 선형대수학', '유아식 레시피북', '삼국지 원전 완역판 8 도남', '어서 오세요, 휴남동 서점입니다', '이야기와 그림으로 풀어쓴 기초 행정학', '테라피스트', '[대여] 와인잔에 담긴 인문학(오디오북)', '[대여] 앨리스 죽이기(오디오북)', '[대여] 대항해시대의 탄생(오디오북)', '심리투자 불변의 법칙', '나 홀로 읽는 도덕경', '인벤터 50시간 완성 (조립·도면편)', '2021 JLPT (일본어능력시험) 한권으로 끝내기 N2 (최신개정판)', '언바운드 UNBOUND', '서울 자가에 대기업 다니는 김 부장 이야기 1', '글로벌 마케팅 (제10판)', '프레임', '완전한 행복', '디지털 콘텐츠 기획(2판)', '혼자 공부하는 C 언어', '비즈니스 커뮤니케이션 (4판)', '나는 주식 대신 달러를 산다', '인스타 브레인', '일본어 한자암기박사', '아임 파인', '왜 일하는가', '오라클로 배우는 데이터베이스 개론과 실습(2판)', '오에 겐자부로', 'C 언어 일취월장(2판)', '운영체제(개정3판)', '처음 만나는 디지털 논리회로', '마지막 몰입 : 나를 넘어서는 힘', '메모리 크래프트', '핵심 음악이론 (Core Music Theory)', '비전공자를 위한 이해할 수 있는 IT 지식', '노동경제학 (제8판)', '삼박자 투자법', '기분이 태도가 되지 않게', '일 잘하는 사람은 단순하게 말합니다', '논어', '에센스 재무관리 (7판)', '태블로 굿모닝 굿애프터눈', '나는 무조건 합격하는 공부만 한다', '네이티브 영어표현력 사전', '혼밥 자작 감행', '도파민형 인간', '숨', 'Do it! 점프 투 파이썬 -전면 개정판', '모두의 데이터 분석 with 파이썬', 'NCS 대인관계 능력', '초격차', '10년 동안 적금밖에 모르던 39세 김 과장은 어떻게 1년 만에 부동산 천재가 됐을까?', '학습심리학 (제8판)', 'People and Life 1', '지옥변', '죽고 싶지만 떡볶이는 먹고 싶어', '채권투자 핵심 노하우', '우울할 땐 뇌 과학', '언스크립티드', '개념-뿌리들', '팀 켈러의 내가 만든 신', '만엔 원년의 풋볼 - 일문학선집 4', '밑바닥부터 시작하는 딥러닝', '속초에서의 겨울', '현대 디자인의 역사', '나는 누구인가 (개정판)', '[세트] 데일카네기 자기계발 시리즈(전5권)', '개인주의자 선언', '서양 음악의 이해', '도시는 무엇으로 사는가', '설득의 심리학 2', '보통의 일러스트레이터로 살아가기', '굿데이성경 개역개정', '제인에어 1(한글+영문)', '당신은 사업가입니까', '그리고 아무도 없었다 - 애거서 크리스티 전집 02', '로미오와 줄리엣 (한글판+영문판)', '놓아버림', '대한민국사 1', '햄릿 - 세계문학전집 003', '버들붕어 하킴', '국가는 왜 실패하는가', '프랑켄슈타인', '죄와 벌 1 - 세계문학전집 284', '[100% 페이백][대여] 챗GPT에게 묻는 인류의 미래', '챗GPT시대 글쓰기', '공부하는 뇌, 성장하는 마음', '2023 최신판 한국수출입은행 필기전형 FINAL 실전 최종모의고사 7회분+직업성격검사+면접+무료NCS특강', '시어터플러스 2023년 03월호', '빅데이터 시대, 올바른 인사이트를 위한 통계 101×데이터 분석', '기우', '메밀꽃 필 무렵', '[단독] 데이비드 호킨스의 365일 명상', '상처 주는 말 하는 친구에게 똑똑하게 말하는 법', '운영체제', '교육심리학 (개정판)', '올바른책 분석노트: 올림포스 전국연합학력평가 기출문제집 영어독해 고2 (2023년)', '올바른책 분석노트: 올림포스 전국연합학력평가 기출문제집 영어독해 고1 (2023년)', '수학은 암기다', '글쓰기로 경단녀 탈출하는 방법', '아는 만큼 보이는 세상 : 물리편', '당신의 투자가 심플했으면 좋겠습니다', '국제개발협력 입문편 (개정판)', '좋은생각', '신인적자원관리', '2023 물류관리사 물류관리론', '배우와 배우가', '종의 기원', '무기력의 심리학', '연중행사로 배우는 일본문화와 일본어', '[대여] 스마트폰을 떨어뜨렸을 뿐인데', '반도체 삼국지', '동산의 샘', '포토샵 & 일러스트레이터 CC 2023 무작정 따라하기', '입이 트이는 영어 2023년 2월호', '장단기 투자의 비밀', '조셉 머피 끌어당김의 기적', '데일 카네기 자기 관리론(무삭제 완역본)', '[epub3.0]영어 회화 핵심패턴 233 중고급편(2023개정판)', '감정은 습관이다', '10일 만에 끝내는 해커스 토익스피킹', '씽킹 101', '제품의 탄생', '직장인을 위한 실무 파워포인트 - 최신개정판', '(제3판) 호텔경영의 이해', '컴퓨터 비전과 딥러닝', '피로사회', '유리탑의 살인', 'Do it! 리액트 모던 웹 개발 with 타입스크립트', '데이터 시각화와 탐색 with POWER BI 2nd', 'AI 혁명의 미래', '부동산 변곡점이 왔다', '리스본행 야간열차', '해커스 중국어 HSK 4급 한 권으로 합격', '천 원을 경영하라', '우리 아이 기질 맞춤 양육 매뉴얼', '왜 나는 너를 사랑하는가(70만 부 기념 리커버)', '기분대로 아이를 키우지 않겠습니다', '하루 한 장 고전 수업', '고통의 비밀', '2023 트렌드 모니터', '진짜 미국 영어 2022년 11월호', '코딩자율 학습 나도코딩의 C언어 입문', '작은 땅의 야수들', '진짜 미국 영어 2022년 10월호', '올인원 경영학원론', '케라스 창시자에게 배우는 딥러닝 개정 2판', '브로콜리지만 사랑받고 싶어', '기계공작법 이해 : NCS 과정 및 실무', '해커스 그래머 게이트웨이 베이직 (Grammar Gateway Basic)', '맨처음 토익 RC 실력편', '나는 왜 나를 함부로 대할까', '법륜 스님의 반야심경 강의', '나는 무조건 한 번에 합격한다', '프셉마음 신경과편', '현장 중심의 영양교육과 상담', '윌리엄 오닐 최고의 주식 최적의 타이밍 성공투자 스토리', '쉽게 배우는 데이터 통신과 컴퓨터 네트워크(3판)', '뉴욕 정신과 의사의 사람 도서관', '엑셀 2019', '든든한 엑셀 2016', '인플레이션에서 살아남기', '인간 커뮤니케이션과 미디어 : 소통 공간의 확장 (전면개정판 2판)', '프로세스 이코노미', '지리의 힘 2', '알기 쉬운 조명 교과서', 'Beer의 정역학과 재료역학', '지방자치 새로고침', '거의 모든 행동 표현의 영어', '인간심리의 이해 (제2판)', '설득 커뮤니케이션의 이해와 활용 (2022년 개정판)', '열방약국 유방암 상담소', '레트로의 유니티 게임 프로그래밍 에센스', '몰입의 즐거움', '나는 나로 살기로 했다(개정증보판)', '부동산 상식사전', '당신, 거기 있어줄래요?(Seras-tu la?) (개정판)', '[대여] 은퇴 형사 동철수의 영광', '중국 문화 알기', '파이썬으로 배우는 게임 개발 입문편', '사례를 통해서 배우는 갈등 해결의 지혜', '반도체, 넥스트 시나리오', '유학과 사회생물학', '스타트 위드 와이', '현대 범죄와 형벌', '할 말은 합니다', '최신 기술 동향으로 알아보는 ICT와 4차 산업혁명', '컴퓨터 구조와 원리 3.0', '프셉마음', '난생처음 파이썬 프로그래밍', '잘했고 잘하고 있고 잘 될 것이다', '지금은 중국을 읽을 시간 1', '한 권으로 완성되는 이미지 메이킹과 면접', '제과제빵학', '1년에 10억 버는 방구석 비즈니스', 'Biz Common Sense (Entry-level)', '공간의 미래', '동사 중심 네이티브 영어표현력 사전', '객체 지향 설계와 분석을 위한 UML 기초와 응용', '기초 전기전자 에센스', '기초 미분적분학(개정판) : Pre Calculus', 'C# 프로그래밍 2판', '난생처음 인공지능 with 스크래치', '핵심이 보이는 전자회로 with PSPICE(개정판)', '핵심이 보이는 전자회로 실험 with PSPICE', '자바 프로그래밍 for Beginner', '경영경제통계학 해답 (제5판)', '타인을 읽는 말', '낯선 곳에서 나를 만나다', '모두의 인공지능 with 파이썬', '허브 코헨의 협상의 기술 1', 'NEW 일본어 상용한자 2136 한권으로 끝내기', 'BIG POT 2', '파고다 오픽의 신(神) IM2-AL (개정판)', '내 영혼이 따뜻했던 날들', 'NEW どきどき(도키도키) 일본어 초급 上', '어떻게 말해줘야 할까', '초보자를 위한 언리얼 엔진 4 입문', '킹크', '영어 단어의 결정적 뉘앙스들', '사랑한다고 상처를 허락하지 말 것', '디지털 시대의 소비자와 시장', '논리적 사고 2판', '엑셀을 활용한 외식재무관리', 'Do it! 자료구조와 함께 배우는 알고리즘 입문', '만화 재무제표 모르면 주식투자 절대로 하지마라 (상)', '대학생을 위한 사고와 표현', '서비스경영론(환대산업 마케팅을 중심으로) 개정판', '김남천 처를 때리고 (근현대 한국문학 읽기 188)', '나도향 자기를 찾기 전 (근현대 한국문학 읽기 187)', '해커스톡 영어회화 10분의 기적 : 패턴으로 말하기', 'R.U.R', '더 해빙', '우리말의 구조', '교실영어 표현사전', '해커스 여행일본어 10분의 기적', '군주론 (개정판)', '나는 불완전한 나를 사랑한다', '리액트를 다루는 기술(개정판)', '[대여] 레인 메이커', '부의 지도를 바꾼 회계의 세계사', '미치게 친절한 철학', '오디세이아', '공학의 눈으로 미래를 설계하라', '토익 부스터 LC', '500문제로 끝내는 실전 토익 RC', '인간혁명의 시대', '체리새우: 비밀글입니다', '박상효의 영문법 콘서트 (개정판)', '돌이킬 수 있는', '설국 - 세계문학전집 061', 'Do it! 오라클로 배우는 데이터베이스 입문', '비만코드', '[epub3.0]시나공 JLPT 일본어능력시험 N1', '국어학개론', '사이코패스는 일상의 그늘에 숨어 지낸다', 'New 영양생리학', '시나리오란 무엇인가', '우리가 좋아하는 한국 명시 150', '브람스를 좋아하세요… - 세계문학전집 179', '교직과 교사 (제2판)', 'EAGLE CAD 배우기', '징비록(초판본)', '말 그릇', '프랑스 문화예술 기행 : 12개의 박물관', '해가 지는 곳으로 - 오늘의 젊은 작가 16', '삶이 그대를 속일지라도 (한글판) 105', 'Do it! C 언어 입문', '나도향 단편소설 추억 - 한국문학전집 116', '(한글) 시계가 없는 마을 (일본 BEST 소설 총서 1', '국가란 무엇인가', '[대여] 야성의 부름 - 문예 세계문학선 077', '심리 조작의 비밀: 어떻게 마음을 지배하고 행동을 설계하는가', '조선영화란 하오', '1박2일 밥차 아주머니의 요리책 01', '시녀 이야기', '특수교육심리학', '미라클 모닝', '사람을 얻는 지혜', '세일즈맨의 죽음 - 세계문학전집 218', '왓칭', '영어회화를 위한 영단어, 보카코드1', '소모되는 남자', '청년기 갈등과 자기이해 (제3판)', '이야기 동양신화', '주식에 장기투자하라', '유시민의 글쓰기 특강', '죽은 시인의 사회', '마담 보바리 (한글판) 081', '팀 켈러, 결혼을 말하다', '고도를 기다리며 - 세계문학전집 043', '칼의 노래', '제인에어 2 (한글+영문)', '페스트 (한글판+영문)', '무기여 잘 있거라 (한글+영문)', '야간 비행 (한글판) 063', '바냐 아저씨 (한글판) 053', 'PR학 원론', '심플하게 산다', '기독교의 기본 진리', '모비딕', '여덟 단어 (개정판)', '오만과 편견 (한글판) 033', '월든 (한글+영문판)', '1984 (한글+영문)', '제노사이드', '햄릿 (한글) 017', '차라투스트라는 이렇게 말했다 - 세계문학전집 094', '체호프 단편선 - 세계문학전집 070', '월든', '노인과 바다 - 세계문학전집 278', '카라마조프가의 형제들 1 - 세계문학전집 154', '폭풍의 언덕 - 세계문학전집 118', '안녕, 내 인생', '고요한 우연', '올바른책 변형문제 : 수능특강 영어영역 영어(상) (2023년)', '군대가 장난이냐', '실무에 바로 쓰는 Go 언어 핸즈온 가이드', '리얼월드 암호학', '2023 에듀윌 산업안전산업기사 실기 한권끝장', '상륙', '행진곡', '버블 경제학', '퇴사 말고 강사', '수의사는 오늘도 짝사랑 중', '삶의 목적을 찾는 45가지 방법', '아동,청소년 미술심리진단평가', '이상심리학 (제10판)', '셔터를 올리며', '우크라이나전쟁과 신세계질서', '[대여] ENJOY 여행영어', '컬티시 : 광신의 언어학', '나의 꿈 스타벅스 건물주', '지위 게임', '챗GPT에게 묻는 인류의 미래', '생명과 약의 연결고리', '[대여] 해가 지는 곳으로 - 오늘의 젊은 작가 16', '[대여] 밤의 여행자들 - 오늘의 젊은 작가 3', '헤아려 본 믿음', '어른의 말센스', '로렘 입숨의 책', '주식 투자 생존 전략', '그림형제 동화 104. 어리석음을 존경하는 남편', '너의 안부', '사랑과 이별', '마인드 룰', '진짜 수학 공부법', '코딩 자율학습 나도코딩의 파이썬 언어 입문', '지무비의 유튜브 엑시트', '별빛 너머의 별', '흑뢰성', '나를 다 안다는 착각', '문과생도 이해하는 전기전자수학', '증권투자의이해', '2023 물류관리사 국제물류론', '배니시드', '네이버쇼핑 스마트스토어로 상위노출 하라', '기초 경영경제수학 (2판)', '[대여] 돌이킬 수 없는 약속', '개념을 알면 쉬운 회계학원론 (4판)', '2023 에듀윌 공인중개사 심정욱 합격서 민법 및 민사특별법', '기획의 정석', '네트워크 해킹과 보안', '베싸육아', '해커스 토플 액츄얼 테스트 라이팅 (Hackers TOEFL Actual Test Writing)', 'MBTI의 모든 것', 'Do it! 스위프트로 아이폰 앱 만들기 입문 &#8211; 개정 7판', '임용 국어 기출 해설', '군중의 망상', '돈되는 소자본 무인창업', '눈먼 사랑 - 셜록 홈즈', '자발적 방관육아', '알면 보이고 보이면 돈이 되는 상권의 비밀', '어머니, 사교육을 줄이셔야 합니다', '2023 에듀윌 EXIT 정보처리기사 필기 기본서', '2023 에듀윌 EXIT 정보처리기사 실기 기본서', '[epub3.0]영어 회화 핵심패턴 233 (2023개정판)', '2023 투자자산운용사 한권으로 끝내기 ver 9.0', '스포츠심리학의 정석 개정판', '해커스 토익 실전 1000제 3 LISTENING 문제집', '일본이 흔들린다', '소명, 하나님의 시간을 잇는 싸움', '당신이 옳다', '입이 트이는 영어 2023년 1월호', '2023 SMAT 모듈A 비즈니스 커뮤니케이션 1주끝장', '밥 프록터의 위대한 확언', '머니 트렌드 2023', '생활 속 예제로 배우는 생생 데이터 분석', '2023 에듀윌 제과제빵기능사(산업기사 대비가능)', '사라진 소녀들의 숲', '넌 대체 몇 년째 영어 공부를 하고 있는 거니?', '스위스 안락사 현장에 다녀왔습니다', 'Do it! 깡샘의 안드로이드 앱 프로그래밍 with 코틀린 (개정 2판)', '찰리 멍거 바이블', '소크라테스의 변명', '해커스 LG그룹 온라인 인적성검사 통합 기본서 최신기출유형+실전모의고사', '하마터면 또 회계를 모르고 일할 뻔했다!', '내 아이를 위한 감정코칭', '2023 hoa 기출유형으로 3주만에 합격하는 회계관리 1급 한권으로 끝내기', '진짜 미국 영어 2022년 12월호', '대성당', '양자역학 이야기', '풍성한 삶의 기초 워크북', '모두 거짓말을 한다(개정판)', 'JLPT(일본어능력시험) 한권으로 끝내기 N5 (2022 최신 개정판)', '깨달음으로 가는 위빠사나 명상_근원에서 전체를 통째로 보라', '딱 1분만 읽어봐', 'UX/UI 디자이너를 위한 실무 피그마 (개정판)', '파이썬을 이용한 비트코인 자동매매', '너만 모르는 진실', '올바른책 수능특강 Light 영어독해연습 변형문제 (2022년)', '사람을 얻는 지혜', '우리, 편하게 말해요', '1급 소방안전관리자 문제은행', '한번에 끝내는 독일어 문법 초중급편', '에듀윌 토익 기출 Voca : 토익 어휘서', '낯선 사람에게 말을 걸면', '최신 일반화학실험', '기분을 관리하면 인생이 관리된다', '대학 글쓰기', '스프링 시큐리티 인 액션', '이현석의 입이 트이는 영어 최고의 스피킹 60 - 여가생활 편', '전략적 브랜드 관리', '트로피컬 나이트', '인성이 실력이다', '어둠 속의 사건', '비전공자도 이해할 수 있는 AI 지식', '맥심 MAXIM 2022. 9월호 (치어리더 이다혜)', '빅데이터의이해와활용', '2023 고종훈 한국사 서브노트', '기독교가 직면한 12가지 질문']\n",
      "987\n"
     ]
    }
   ],
   "source": [
    "print(book_title_list)\n",
    "print(len(book_title_list))\n",
    "#print(book_author_list)\n",
    "#print(book_price_list)\n",
    "#print(book_star_list)\n",
    "#print(book_cate_list)\n",
    "#print(book_isbn_list)\n",
    "#print(book_tag_list)\n",
    "#print(book_img_list)"
   ]
  },
  {
   "cell_type": "code",
   "execution_count": 4,
   "id": "80dde9fa",
   "metadata": {},
   "outputs": [
    {
     "data": {
      "text/html": [
       "<div>\n",
       "<style scoped>\n",
       "    .dataframe tbody tr th:only-of-type {\n",
       "        vertical-align: middle;\n",
       "    }\n",
       "\n",
       "    .dataframe tbody tr th {\n",
       "        vertical-align: top;\n",
       "    }\n",
       "\n",
       "    .dataframe thead th {\n",
       "        text-align: right;\n",
       "    }\n",
       "</style>\n",
       "<table border=\"1\" class=\"dataframe\">\n",
       "  <thead>\n",
       "    <tr style=\"text-align: right;\">\n",
       "      <th></th>\n",
       "      <th>book_title</th>\n",
       "    </tr>\n",
       "  </thead>\n",
       "  <tbody>\n",
       "    <tr>\n",
       "      <th>0</th>\n",
       "      <td>[최근담] 안온한 밤</td>\n",
       "    </tr>\n",
       "    <tr>\n",
       "      <th>1</th>\n",
       "      <td>몫</td>\n",
       "    </tr>\n",
       "    <tr>\n",
       "      <th>2</th>\n",
       "      <td>우리는 사랑했다 - 테이크아웃 05</td>\n",
       "    </tr>\n",
       "    <tr>\n",
       "      <th>3</th>\n",
       "      <td>스즈메의 문단속</td>\n",
       "    </tr>\n",
       "    <tr>\n",
       "      <th>4</th>\n",
       "      <td>김미경의 마흔 수업</td>\n",
       "    </tr>\n",
       "    <tr>\n",
       "      <th>...</th>\n",
       "      <td>...</td>\n",
       "    </tr>\n",
       "    <tr>\n",
       "      <th>982</th>\n",
       "      <td>비전공자도 이해할 수 있는 AI 지식</td>\n",
       "    </tr>\n",
       "    <tr>\n",
       "      <th>983</th>\n",
       "      <td>맥심 MAXIM 2022. 9월호 (치어리더 이다혜)</td>\n",
       "    </tr>\n",
       "    <tr>\n",
       "      <th>984</th>\n",
       "      <td>빅데이터의이해와활용</td>\n",
       "    </tr>\n",
       "    <tr>\n",
       "      <th>985</th>\n",
       "      <td>2023 고종훈 한국사 서브노트</td>\n",
       "    </tr>\n",
       "    <tr>\n",
       "      <th>986</th>\n",
       "      <td>기독교가 직면한 12가지 질문</td>\n",
       "    </tr>\n",
       "  </tbody>\n",
       "</table>\n",
       "<p>987 rows × 1 columns</p>\n",
       "</div>"
      ],
      "text/plain": [
       "                        book_title\n",
       "0                      [최근담] 안온한 밤\n",
       "1                                몫\n",
       "2              우리는 사랑했다 - 테이크아웃 05\n",
       "3                         스즈메의 문단속\n",
       "4                       김미경의 마흔 수업\n",
       "..                             ...\n",
       "982           비전공자도 이해할 수 있는 AI 지식\n",
       "983  맥심 MAXIM 2022. 9월호 (치어리더 이다혜)\n",
       "984                     빅데이터의이해와활용\n",
       "985              2023 고종훈 한국사 서브노트\n",
       "986               기독교가 직면한 12가지 질문\n",
       "\n",
       "[987 rows x 1 columns]"
      ]
     },
     "execution_count": 4,
     "metadata": {},
     "output_type": "execute_result"
    }
   ],
   "source": [
    "pd.DataFrame(data = book_title_list, columns = [\"book_title\"])"
   ]
  },
  {
   "cell_type": "code",
   "execution_count": null,
   "id": "1279426b",
   "metadata": {},
   "outputs": [],
   "source": []
  },
  {
   "cell_type": "code",
   "execution_count": 335,
   "id": "07b920b1",
   "metadata": {},
   "outputs": [
    {
     "ename": "AttributeError",
     "evalue": "'NoneType' object has no attribute 'text'",
     "output_type": "error",
     "traceback": [
      "\u001b[1;31m---------------------------------------------------------------------------\u001b[0m",
      "\u001b[1;31mAttributeError\u001b[0m                            Traceback (most recent call last)",
      "\u001b[1;32m~\\AppData\\Local\\Temp\\ipykernel_22904\\2247770708.py\u001b[0m in \u001b[0;36m<module>\u001b[1;34m\u001b[0m\n\u001b[0;32m     34\u001b[0m \u001b[1;33m\u001b[0m\u001b[0m\n\u001b[0;32m     35\u001b[0m \u001b[0mbook_tag_list\u001b[0m \u001b[1;33m=\u001b[0m \u001b[1;33m[\u001b[0m\u001b[1;33m]\u001b[0m\u001b[1;33m\u001b[0m\u001b[1;33m\u001b[0m\u001b[0m\n\u001b[1;32m---> 36\u001b[1;33m \u001b[0mbook_tag\u001b[0m \u001b[1;33m=\u001b[0m \u001b[0msoup2\u001b[0m\u001b[1;33m.\u001b[0m\u001b[0mfind\u001b[0m\u001b[1;33m(\u001b[0m\u001b[1;34m\"div\"\u001b[0m\u001b[1;33m,\u001b[0m \u001b[1;33m{\u001b[0m\u001b[1;34m\"class\"\u001b[0m\u001b[1;33m:\u001b[0m\u001b[1;34m\"gd_tagArea\"\u001b[0m\u001b[1;33m}\u001b[0m\u001b[1;33m)\u001b[0m\u001b[1;33m.\u001b[0m\u001b[0mtext\u001b[0m\u001b[1;33m.\u001b[0m\u001b[0mreplace\u001b[0m\u001b[1;33m(\u001b[0m\u001b[1;34m\"\\n\"\u001b[0m\u001b[1;33m,\u001b[0m\u001b[1;34m\"\"\u001b[0m\u001b[1;33m)\u001b[0m  \u001b[1;31m# 태그\u001b[0m\u001b[1;33m\u001b[0m\u001b[1;33m\u001b[0m\u001b[0m\n\u001b[0m\u001b[0;32m     37\u001b[0m \u001b[0mbook_tag_list\u001b[0m\u001b[1;33m.\u001b[0m\u001b[0mappend\u001b[0m\u001b[1;33m(\u001b[0m\u001b[0mbook_tag\u001b[0m\u001b[1;33m)\u001b[0m\u001b[1;33m\u001b[0m\u001b[1;33m\u001b[0m\u001b[0m\n\u001b[0;32m     38\u001b[0m \u001b[1;33m\u001b[0m\u001b[0m\n",
      "\u001b[1;31mAttributeError\u001b[0m: 'NoneType' object has no attribute 'text'"
     ]
    }
   ],
   "source": [
    "driver = webdriver.Chrome(ChromeDriverManager().install())\n",
    "driver.get(\"http://www.yes24.com/Product/Goods/117604359\")\n",
    "\n",
    "url2 = book_link_list[0]\n",
    "res2 = requests.get(url2).text\n",
    "soup2 = BeautifulSoup(res2, 'lxml')\n",
    "\n",
    "book_title_list = []\n",
    "book_title = soup2.find(\"h2\", {\"class\":\"gd_name\"}).text  # 책 제목\n",
    "book_title_list.append(book_title)\n",
    "\n",
    "book_author_list = []\n",
    "book_author = soup2.find(\"span\", {\"class\":\"gd_auth\"}).text.replace(\"\\n\",\"\").replace(\"\\r\",\"\").rstrip().lstrip()  # 저자\n",
    "book_author_list.append(book_author)\n",
    "\n",
    "book_price_list = []\n",
    "book_price = soup2.find(\"span\", {\"class\":\"nor_price\"}).text  # 가격\n",
    "book_price_list.append(book_price)\n",
    "\n",
    "book_star_list = []\n",
    "book_star = soup2.find(\"em\", {\"class\":\"yes_b\"}).text  # 별점\n",
    "book_star_list.append(book_star)\n",
    "\n",
    "book_cate_list = []\n",
    "book_cate = soup2.select_one(\"dd>.yesAlertLi>li\").text.replace(\"\\n\",\"\").replace(\" \",\"\").replace(\"\\xa0\",\"\")  # 카테고리 분류\n",
    "book_cate_list.append(book_cate)\n",
    "\n",
    "book_isbn_list = []\n",
    "book_isbn = soup2.find(\"div\", {\"class\":\"yesTb\"}).text.replace(\"\\n\", \"\").replace(\"\\r\",\"\")[-13:]  # ISBN13\n",
    "if re.compile(\"[^0-9]\").match(book_isbn):\n",
    "    book_isbn = book_isbn.replace(book_isbn, \"0\"*13)\n",
    "    book_isbn_list.append(book_isbn)\n",
    "    #print(book_isbn)\n",
    "else:\n",
    "    #print(book_isbn)\n",
    "    book_isbn_list.append(book_isbn)\n",
    "\n",
    "book_tag_list = []\n",
    "book_tag = soup2.find(\"div\", {\"class\":\"gd_tagArea\"}).text.replace(\"\\n\",\"\")  # 태그\n",
    "book_tag_list.append(book_tag)\n",
    "\n",
    "book_img_list = []\n",
    "book_img = soup2.find(\"img\", {\"class\":\"gImg\"})['src']\n",
    "book_img_list.append(book_img)"
   ]
  },
  {
   "cell_type": "code",
   "execution_count": 336,
   "id": "ef44785c",
   "metadata": {
    "scrolled": true
   },
   "outputs": [
    {
     "name": "stdout",
     "output_type": "stream",
     "text": [
      "['입이 트이는 영어 2023년 3월호']\n",
      "['이현석']\n",
      "['8,800원']\n",
      "['10.0']\n",
      "['eBook>외국어>영어']\n",
      "['9788900475005']\n",
      "[]\n",
      "['http://image.yes24.com/goods/117604359/XL', 'http://image.yes24.com/goods/87005231/XL', 'http://image.yes24.com/goods/89869681/XL', 'http://image.yes24.com/goods/117721650/XL', 'http://image.yes24.com/goods/117748300/XL', 'http://image.yes24.com/goods/117474995/XL', 'http://image.yes24.com/momo/TopCate0001/kepub/L_207943.jpg', 'http://image.yes24.com/goods/117310764/XL', 'http://image.yes24.com/goods/117612515/XL', 'http://image.yes24.com/goods/117761710/XL', 'http://image.yes24.com/goods/115211318/XL', 'http://image.yes24.com/goods/117620345/XL', 'http://image.yes24.com/momo/TopCate481/MidCate009/48084715(1).jpg', 'http://image.yes24.com/goods/101506482/XL', 'http://image.yes24.com/goods/117756234/XL', 'http://image.yes24.com/goods/117201893/XL', 'http://image.yes24.com/goods/114294478/XL', 'http://image.yes24.com/goods/90703686/XL', 'http://image.yes24.com/goods/117769569/XL', 'http://image.yes24.com/goods/117519500/XL']\n"
     ]
    }
   ],
   "source": [
    "print(book_title_list)\n",
    "print(book_author_list)\n",
    "print(book_price_list)\n",
    "print(book_star_list)\n",
    "print(book_cate_list)\n",
    "print(book_isbn_list)\n",
    "print(book_tag_list)\n",
    "print(book_img_list)"
   ]
  },
  {
   "cell_type": "code",
   "execution_count": 151,
   "id": "d121f463",
   "metadata": {
    "scrolled": true
   },
   "outputs": [
    {
     "data": {
      "text/plain": [
       "'9791155352014'"
      ]
     },
     "execution_count": 151,
     "metadata": {},
     "output_type": "execute_result"
    }
   ],
   "source": [
    "soup2.find(\"div\", {\"class\":\"yesTb\"}).text.replace(\"\\n\", \"\").replace(\"\\r\",\"\")[-13:]"
   ]
  },
  {
   "cell_type": "code",
   "execution_count": 173,
   "id": "e9291dfe",
   "metadata": {},
   "outputs": [
    {
     "name": "stdout",
     "output_type": "stream",
     "text": [
      "정규식 일치\n"
     ]
    }
   ],
   "source": [
    "import re\n",
    "p = re.compile(\"[^0-9]\")  # 숫자가 아닌 것과 매치, [^0-9]\n",
    "m = p.match(book_isbn)\n",
    "if m:\n",
    "    print(\"정규식 일치\")\n",
    "else:\n",
    "    print(\"정규식 불일치\")"
   ]
  },
  {
   "cell_type": "code",
   "execution_count": 239,
   "id": "b3b8799e",
   "metadata": {},
   "outputs": [
    {
     "data": {
      "text/plain": [
       "20"
      ]
     },
     "execution_count": 239,
     "metadata": {},
     "output_type": "execute_result"
    }
   ],
   "source": [
    "len(book_link_list)"
   ]
  },
  {
   "cell_type": "code",
   "execution_count": null,
   "id": "d06aa7a2",
   "metadata": {},
   "outputs": [],
   "source": []
  },
  {
   "cell_type": "code",
   "execution_count": 5,
   "id": "74236ca8",
   "metadata": {},
   "outputs": [
    {
     "name": "stderr",
     "output_type": "stream",
     "text": [
      "C:\\Users\\namyo\\AppData\\Local\\Temp\\ipykernel_21100\\414376848.py:9: DeprecationWarning: executable_path has been deprecated, please pass in a Service object\n",
      "  driver = webdriver.Chrome(ChromeDriverManager().install())\n"
     ]
    },
    {
     "name": "stdout",
     "output_type": "stream",
     "text": [
      "['미련', '[세트] 신(神)묘한 동거 (총2권/완결)', '[세트] 발칙한 아내의 비밀 (총3권/완결)', 'Let it rain', '그 여자, 그 남자를 만나다 2', '그 여자 그 남자를 만나다 (전2권)', '그 여자, 그 남자를 만나다 합본 (전2권)', '반대가 끌리는 이유 1권 [무료]', '이달의 장르소설 5 : 누시', '기막힌 연애 (체험판)', '불순한 상사', '[세트] 깊숙이 탐하다 (총2권/완결)', '2교시, 바른생활', '띠아모(ti amo)', '[세트] 짜고 치는 연애사 (총2권/완결)', '[세트] 예정된 결혼 (총2권/완결)']\n"
     ]
    }
   ],
   "source": [
    "import selenium\n",
    "import time\n",
    "from selenium import webdriver\n",
    "from selenium.webdriver.common.by import By\n",
    "from webdriver_manager.chrome import ChromeDriverManager\n",
    "from bs4 import BeautifulSoup\n",
    "import pandas as pd\n",
    "\n",
    "driver = webdriver.Chrome(ChromeDriverManager().install())\n",
    "\n",
    "driver.get(\"http://www.yes24.com/Product/Goods/117604359\")\n",
    "\n",
    "html = driver.page_source\n",
    "soup = BeautifulSoup(html, 'html.parser')\n",
    "\n",
    "data = soup.select('#recommend_goods_area > .goods_info')\n",
    "\n",
    "recom_book_list = []\n",
    "for text in data :\n",
    "    # print(text)\n",
    "    recom_books = text.find('p').get_text()\n",
    "    recom_book_list.append(recom_books)\n",
    "print(recom_book_list)"
   ]
  },
  {
   "cell_type": "code",
   "execution_count": 6,
   "id": "be7d8400",
   "metadata": {},
   "outputs": [],
   "source": [
    "driver.quit() "
   ]
  },
  {
   "cell_type": "code",
   "execution_count": null,
   "id": "e0a09e74",
   "metadata": {},
   "outputs": [],
   "source": []
  },
  {
   "cell_type": "code",
   "execution_count": null,
   "id": "69837f2f",
   "metadata": {},
   "outputs": [],
   "source": []
  },
  {
   "cell_type": "code",
   "execution_count": null,
   "id": "6de8bc76",
   "metadata": {},
   "outputs": [],
   "source": []
  },
  {
   "cell_type": "code",
   "execution_count": null,
   "id": "976f0256",
   "metadata": {},
   "outputs": [],
   "source": []
  },
  {
   "cell_type": "code",
   "execution_count": null,
   "id": "640b90f6",
   "metadata": {},
   "outputs": [],
   "source": []
  },
  {
   "cell_type": "code",
   "execution_count": null,
   "id": "b7c77e3f",
   "metadata": {},
   "outputs": [],
   "source": []
  },
  {
   "cell_type": "code",
   "execution_count": null,
   "id": "e8cdeb5a",
   "metadata": {},
   "outputs": [],
   "source": []
  },
  {
   "cell_type": "code",
   "execution_count": null,
   "id": "0996887c",
   "metadata": {},
   "outputs": [],
   "source": []
  },
  {
   "cell_type": "code",
   "execution_count": null,
   "id": "a5575a20",
   "metadata": {},
   "outputs": [],
   "source": []
  },
  {
   "cell_type": "code",
   "execution_count": null,
   "id": "c04a45da",
   "metadata": {},
   "outputs": [],
   "source": []
  },
  {
   "cell_type": "code",
   "execution_count": null,
   "id": "cb7d4058",
   "metadata": {},
   "outputs": [],
   "source": []
  }
 ],
 "metadata": {
  "kernelspec": {
   "display_name": "Python 3 (ipykernel)",
   "language": "python",
   "name": "python3"
  },
  "language_info": {
   "codemirror_mode": {
    "name": "ipython",
    "version": 3
   },
   "file_extension": ".py",
   "mimetype": "text/x-python",
   "name": "python",
   "nbconvert_exporter": "python",
   "pygments_lexer": "ipython3",
   "version": "3.9.13"
  }
 },
 "nbformat": 4,
 "nbformat_minor": 5
}
